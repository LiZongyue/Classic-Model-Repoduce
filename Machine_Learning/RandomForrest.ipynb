{
 "cells": [
  {
   "cell_type": "code",
   "execution_count": 1,
   "metadata": {},
   "outputs": [],
   "source": [
    "from __future__ import print_function\n",
    "\n",
    "import tensorflow as tf\n",
    "from tensorflow.python.ops import resources\n",
    "from tensorflow.contrib.tensor_forest.python import tensor_forest"
   ]
  },
  {
   "cell_type": "code",
   "execution_count": 2,
   "metadata": {},
   "outputs": [
    {
     "name": "stderr",
     "output_type": "stream",
     "text": [
      "WARNING: Logging before flag parsing goes to stderr.\n",
      "W0926 23:39:45.407149 23788 deprecation.py:323] From <ipython-input-2-3c3c49ebd9e6>:4: read_data_sets (from tensorflow.contrib.learn.python.learn.datasets.mnist) is deprecated and will be removed in a future version.\n",
      "Instructions for updating:\n",
      "Please use alternatives such as official/mnist/dataset.py from tensorflow/models.\n",
      "W0926 23:39:45.409276 23788 deprecation.py:323] From C:\\Users\\Zongyue Li\\Documents\\Anaconda\\envs\\DeepLearning\\lib\\site-packages\\tensorflow\\contrib\\learn\\python\\learn\\datasets\\mnist.py:260: maybe_download (from tensorflow.contrib.learn.python.learn.datasets.base) is deprecated and will be removed in a future version.\n",
      "Instructions for updating:\n",
      "Please write your own downloading logic.\n",
      "W0926 23:39:45.410288 23788 deprecation.py:323] From C:\\Users\\Zongyue Li\\Documents\\Anaconda\\envs\\DeepLearning\\lib\\site-packages\\tensorflow\\contrib\\learn\\python\\learn\\datasets\\mnist.py:262: extract_images (from tensorflow.contrib.learn.python.learn.datasets.mnist) is deprecated and will be removed in a future version.\n",
      "Instructions for updating:\n",
      "Please use tf.data to implement this functionality.\n",
      "W0926 23:39:45.605467 23788 deprecation.py:323] From C:\\Users\\Zongyue Li\\Documents\\Anaconda\\envs\\DeepLearning\\lib\\site-packages\\tensorflow\\contrib\\learn\\python\\learn\\datasets\\mnist.py:267: extract_labels (from tensorflow.contrib.learn.python.learn.datasets.mnist) is deprecated and will be removed in a future version.\n",
      "Instructions for updating:\n",
      "Please use tf.data to implement this functionality.\n"
     ]
    },
    {
     "name": "stdout",
     "output_type": "stream",
     "text": [
      "Extracting /tmp/data/train-images-idx3-ubyte.gz\n"
     ]
    },
    {
     "name": "stderr",
     "output_type": "stream",
     "text": [
      "W0926 23:39:45.645412 23788 deprecation.py:323] From C:\\Users\\Zongyue Li\\Documents\\Anaconda\\envs\\DeepLearning\\lib\\site-packages\\tensorflow\\contrib\\learn\\python\\learn\\datasets\\mnist.py:290: DataSet.__init__ (from tensorflow.contrib.learn.python.learn.datasets.mnist) is deprecated and will be removed in a future version.\n",
      "Instructions for updating:\n",
      "Please use alternatives such as official/mnist/dataset.py from tensorflow/models.\n"
     ]
    },
    {
     "name": "stdout",
     "output_type": "stream",
     "text": [
      "Extracting /tmp/data/train-labels-idx1-ubyte.gz\n",
      "Extracting /tmp/data/t10k-images-idx3-ubyte.gz\n",
      "Extracting /tmp/data/t10k-labels-idx1-ubyte.gz\n"
     ]
    }
   ],
   "source": [
    "import os\n",
    "os.environ[\"CUDA_VISIBLE_DEVICES\"] = \"\"\n",
    "from tensorflow.examples.tutorials.mnist import input_data\n",
    "mnist = input_data.read_data_sets(\"/tmp/data/\", one_hot = False)"
   ]
  },
  {
   "cell_type": "code",
   "execution_count": 3,
   "metadata": {},
   "outputs": [],
   "source": [
    "num_steps = 500\n",
    "batch_size = 1024\n",
    "num_classes = 10\n",
    "num_features = 784\n",
    "num_trees = 10\n",
    "max_nodes = 1000\n",
    "\n",
    "X = tf.placeholder(tf.float32, shape = [None, num_features])\n",
    "Y = tf.placeholder(tf.float32, shape = [None])\n",
    "\n",
    "hyperparam = tensor_forest.ForestHParams(num_classes = num_classes, \n",
    "                                         num_features = num_features, \n",
    "                                         num_trees=num_trees, \n",
    "                                         max_nodes = max_nodes).fill()"
   ]
  },
  {
   "cell_type": "code",
   "execution_count": 4,
   "metadata": {},
   "outputs": [
    {
     "name": "stderr",
     "output_type": "stream",
     "text": [
      "W0926 23:40:08.787492 23788 deprecation.py:506] From C:\\Users\\Zongyue Li\\Documents\\Anaconda\\envs\\DeepLearning\\lib\\site-packages\\tensorflow\\python\\ops\\init_ops.py:1251: calling VarianceScaling.__init__ (from tensorflow.python.ops.init_ops) with dtype is deprecated and will be removed in a future version.\n",
      "Instructions for updating:\n",
      "Call initializer instance with the dtype argument instead of passing it to the constructor\n"
     ]
    }
   ],
   "source": [
    "#Build random forrest\n",
    "forest_graph = tensor_forest.RandomForestGraphs(hyperparam)\n",
    "# Training Graph and loss\n",
    "train_op = forest_graph.training_graph(X, Y)\n",
    "loss_op = forest_graph.training_loss(X, Y)"
   ]
  },
  {
   "cell_type": "code",
   "execution_count": 5,
   "metadata": {},
   "outputs": [
    {
     "name": "stderr",
     "output_type": "stream",
     "text": [
      "W0926 23:40:17.091717 23788 deprecation.py:323] From C:\\Users\\Zongyue Li\\Documents\\Anaconda\\envs\\DeepLearning\\lib\\site-packages\\tensorflow\\contrib\\tensor_forest\\python\\tensor_forest.py:529: div (from tensorflow.python.ops.math_ops) is deprecated and will be removed in a future version.\n",
      "Instructions for updating:\n",
      "Deprecated in favor of operator or tf.math.divide.\n",
      "W0926 23:40:17.099707 23788 deprecation.py:323] From <ipython-input-5-8a92c83bce41>:3: arg_max (from tensorflow.python.ops.gen_math_ops) is deprecated and will be removed in a future version.\n",
      "Instructions for updating:\n",
      "Use `tf.math.argmax` instead\n"
     ]
    }
   ],
   "source": [
    "#Measure the accuracy\n",
    "infer_op, _, _ = forest_graph.inference_graph(X)\n",
    "correct_prediction = tf.equal(tf.arg_max(infer_op, 1), tf.cast(Y, tf.int64))\n",
    "accuracy_op = tf.reduce_mean(tf.cast(correct_prediction, tf.float32))"
   ]
  },
  {
   "cell_type": "code",
   "execution_count": 6,
   "metadata": {},
   "outputs": [],
   "source": [
    "#initialize all variables and forest resource\n",
    "init_vars = tf.group(tf.global_variables_initializer(),\n",
    "                    resources.initialize_resources(resources.shared_resources()))"
   ]
  },
  {
   "cell_type": "code",
   "execution_count": 7,
   "metadata": {},
   "outputs": [
    {
     "name": "stderr",
     "output_type": "stream",
     "text": [
      "W0926 23:40:45.138299 23788 deprecation.py:323] From C:\\Users\\Zongyue Li\\Documents\\Anaconda\\envs\\DeepLearning\\lib\\site-packages\\tensorflow\\python\\ops\\array_ops.py:1354: add_dispatch_support.<locals>.wrapper (from tensorflow.python.ops.array_ops) is deprecated and will be removed in a future version.\n",
      "Instructions for updating:\n",
      "Use tf.where in 2.0, which has the same broadcast rule as np.where\n"
     ]
    },
    {
     "name": "stdout",
     "output_type": "stream",
     "text": [
      "Step 1, Loss : -1.200000, Acc : 0.471680\n",
      "Step 50, Loss : -252.600006, Acc : 0.885742\n",
      "Step 100, Loss : -538.200012, Acc : 0.914062\n",
      "Step 150, Loss : -832.000000, Acc : 0.940430\n",
      "Step 200, Loss : -1001.000000, Acc : 0.924805\n",
      "Step 250, Loss : -1001.000000, Acc : 0.929688\n",
      "Step 300, Loss : -1001.000000, Acc : 0.927734\n",
      "Step 350, Loss : -1001.000000, Acc : 0.934570\n",
      "Step 400, Loss : -1001.000000, Acc : 0.928711\n",
      "Step 450, Loss : -1001.000000, Acc : 0.926758\n",
      "Step 500, Loss : -1001.000000, Acc : 0.921875\n"
     ]
    }
   ],
   "source": [
    "#start Session\n",
    "sess = tf.train.MonitoredSession()\n",
    "\n",
    "sess.run(init_vars)\n",
    "\n",
    "# Training\n",
    "for i in range(1, num_steps + 1):\n",
    "    #Prepare Data and get the next batch of MNIST data\n",
    "    batch_x, batch_y = mnist.train.next_batch(batch_size)\n",
    "    _, l = sess.run([train_op, loss_op], feed_dict = {X : batch_x, Y : batch_y})\n",
    "    if i % 50 == 0 or i == 1:\n",
    "        acc = sess.run(accuracy_op, feed_dict = {X: batch_x, Y : batch_y})\n",
    "        print(\"Step %i, Loss : %f, Acc : %f\" %(i, l, acc))\n",
    "        "
   ]
  },
  {
   "cell_type": "code",
   "execution_count": 8,
   "metadata": {},
   "outputs": [
    {
     "name": "stdout",
     "output_type": "stream",
     "text": [
      "Test Accuracy :  0.9219\n"
     ]
    }
   ],
   "source": [
    "test_x, test_y = mnist.test.images, mnist.test.labels\n",
    "print(\"Test Accuracy : \", sess.run(accuracy_op, feed_dict = {X : test_x, Y : test_y}))"
   ]
  }
 ],
 "metadata": {
  "kernelspec": {
   "display_name": "Python 3",
   "language": "python",
   "name": "python3"
  },
  "language_info": {
   "codemirror_mode": {
    "name": "ipython",
    "version": 3
   },
   "file_extension": ".py",
   "mimetype": "text/x-python",
   "name": "python",
   "nbconvert_exporter": "python",
   "pygments_lexer": "ipython3",
   "version": "3.7.4"
  }
 },
 "nbformat": 4,
 "nbformat_minor": 2
}
